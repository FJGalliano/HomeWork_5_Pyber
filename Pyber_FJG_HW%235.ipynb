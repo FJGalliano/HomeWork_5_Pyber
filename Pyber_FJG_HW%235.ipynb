{
 "cells": [
  {
   "cell_type": "code",
   "execution_count": null,
   "metadata": {
    "collapsed": true
   },
   "outputs": [],
   "source": [
    "import os\n",
    "import pandas as pd\n",
    "import numpy as np\n",
    "import matplotlib.pyplot as plt"
   ]
  },
  {
   "cell_type": "code",
   "execution_count": null,
   "metadata": {
    "collapsed": true
   },
   "outputs": [],
   "source": [
    "# Take in both data files and then code to read them into pandas\n",
    "city1=\"raw_data/city_data_a.csv\"\n",
    "ride1=\"raw_data/ride_data.csv\"\n",
    "\n",
    "city_df = pd.read_csv(city1)\n",
    "ride_df = pd.read_csv(ride1)"
   ]
  },
  {
   "cell_type": "code",
   "execution_count": null,
   "metadata": {
    "collapsed": true
   },
   "outputs": [],
   "source": [
    "# Merge the two datasets so that no data is lost\n",
    "combined_df = pd.merge(city_df, ride_df, how='outer', on='city')"
   ]
  },
  {
   "cell_type": "code",
   "execution_count": null,
   "metadata": {},
   "outputs": [],
   "source": [
    "# Total rides generated per the data\n",
    "number_rides =(len(combined_df[\"fare\"]))\n",
    "number_rides"
   ]
  },
  {
   "cell_type": "code",
   "execution_count": null,
   "metadata": {},
   "outputs": [],
   "source": [
    "# Total fares generated per the data (%.2f)\n",
    "total_fares =(sum(combined_df[\"fare\"]))\n",
    "round(total_fares)"
   ]
  },
  {
   "cell_type": "code",
   "execution_count": null,
   "metadata": {
    "collapsed": true
   },
   "outputs": [],
   "source": [
    "# Average fare paid in each city\n",
    "avg_city_fare = combined_df.groupby('city').fare.mean()"
   ]
  },
  {
   "cell_type": "code",
   "execution_count": null,
   "metadata": {
    "collapsed": true
   },
   "outputs": [],
   "source": [
    "total_city_fare = combined_df.groupby('city').fare.sum()"
   ]
  },
  {
   "cell_type": "code",
   "execution_count": null,
   "metadata": {
    "collapsed": true
   },
   "outputs": [],
   "source": [
    "# Total number of drivers in each city\n",
    "city_drivers = city_df[['city','driver_count']]\n",
    "#city_drivers"
   ]
  },
  {
   "cell_type": "code",
   "execution_count": null,
   "metadata": {
    "collapsed": true
   },
   "outputs": [],
   "source": [
    "# Total rides in each city\n",
    "rides_in_city = combined_df.groupby('city').fare.count()"
   ]
  },
  {
   "cell_type": "code",
   "execution_count": null,
   "metadata": {
    "scrolled": true
   },
   "outputs": [],
   "source": [
    "# Tell matplotlib to create a scatter plot based upon the above data\n",
    "plt.scatter(rides_in_city, avg_city_fare, total_city_fare, marker=\"o\", facecolors=\"red\", edgecolors=\"blue\", alpha=.6, linewidth=2)"
   ]
  },
  {
   "cell_type": "code",
   "execution_count": null,
   "metadata": {},
   "outputs": [],
   "source": [
    "# Set the upper and lower limits of our y axis\n",
    "plt.ylim(10,61)"
   ]
  },
  {
   "cell_type": "code",
   "execution_count": null,
   "metadata": {},
   "outputs": [],
   "source": [
    "# Set the upper and lower limits of our x axis\n",
    "plt.xlim(0,40)"
   ]
  },
  {
   "cell_type": "code",
   "execution_count": null,
   "metadata": {},
   "outputs": [],
   "source": [
    "# Create a title, x label, and y label for our chart\n",
    "plt.xlabel(\"Number of Rides\")\n",
    "plt.ylabel(\"Avg Cost per Rides\")\n",
    "plt.title(\"Cost of Ride per City\")"
   ]
  },
  {
   "cell_type": "code",
   "execution_count": null,
   "metadata": {},
   "outputs": [],
   "source": [
    "# Save an image of the chart and print to screen\n",
    "plt.savefig(\"test.jpg\")\n",
    "plt.show()"
   ]
  },
  {
   "cell_type": "code",
   "execution_count": null,
   "metadata": {
    "collapsed": true
   },
   "outputs": [],
   "source": [
    "#Calculate the total fare by city type (Urban, Suburban, Rural)\n",
    "city_fare_type = combined_df.groupby('type').fare.sum()"
   ]
  },
  {
   "cell_type": "code",
   "execution_count": null,
   "metadata": {
    "collapsed": true
   },
   "outputs": [],
   "source": [
    "# Labels for the sections of our pie chart\n",
    "labels = [\"Urban\", \"Suburban\", \"Rural\"]\n",
    "\n",
    "# The values of each section of the pie chart\n",
    "sizes = [40078, 19318, 4255]\n",
    "\n",
    "# The colors of each section of the pie chart\n",
    "colors = [\"lightgreen\", \"red\", \"blue\"]\n",
    "explode = (0.1, 0, 0)\n"
   ]
  },
  {
   "cell_type": "code",
   "execution_count": null,
   "metadata": {},
   "outputs": [],
   "source": [
    "#Matplotlib pie chart of total fares by city type\n",
    "plt.pie(sizes, explode=explode, labels=labels, colors=colors,\n",
    "        autopct=\"%1.1f%%\", shadow=True, startangle=140)\n",
    "plt.axis(\"equal\")"
   ]
  },
  {
   "cell_type": "code",
   "execution_count": null,
   "metadata": {},
   "outputs": [],
   "source": [
    "# Save an image of the chart and print to screen\n",
    "plt.savefig(\"pie_type1.jpg\")\n",
    "print(\"Percentage of Total Fares per City Type\")\n",
    "plt.show()"
   ]
  },
  {
   "cell_type": "code",
   "execution_count": null,
   "metadata": {},
   "outputs": [],
   "source": [
    "#What are the % of Total Rides by City Type\n",
    "total_rides_type = combined_df.groupby('type').fare.count()\n",
    "total_rides_type"
   ]
  },
  {
   "cell_type": "code",
   "execution_count": null,
   "metadata": {
    "collapsed": true
   },
   "outputs": [],
   "source": [
    "# Labels for the sections of our pie chart\n",
    "label = [\"Urban\", \"Suburban\", \"Rural\"]\n",
    "\n",
    "# The values of each section of the pie chart\n",
    "rides = [1625, 625, 125]\n",
    "\n",
    "# The colors of each section of the pie chart\n",
    "colors1 = [\"yellow\", \"pink\", \"orange\"]"
   ]
  },
  {
   "cell_type": "code",
   "execution_count": null,
   "metadata": {},
   "outputs": [],
   "source": [
    "#Matplotlib pie chart of total fares by city type\n",
    "plt.pie(rides, explode=explode, labels=label, colors=colors1,\n",
    "        autopct=\"%1.1f%%\", shadow=True, startangle=140)\n",
    "plt.axis(\"equal\")"
   ]
  },
  {
   "cell_type": "code",
   "execution_count": null,
   "metadata": {},
   "outputs": [],
   "source": [
    "plt.savefig(\"pie_type2.jpg\")\n",
    "print(\"Percentage of Rides Generated by City Type\")\n",
    "plt.show()"
   ]
  },
  {
   "cell_type": "code",
   "execution_count": null,
   "metadata": {},
   "outputs": [],
   "source": [
    "#Calculate the total number of drivers per city type\n",
    "total_drivertype = city_df.groupby('type').driver_count.sum()\n",
    "total_drivertype"
   ]
  },
  {
   "cell_type": "code",
   "execution_count": null,
   "metadata": {
    "collapsed": true
   },
   "outputs": [],
   "source": [
    "# Labels for the sections of our pie chart\n",
    "label3 = [\"Urban\", \"Suburban\", \"Rural\"]\n",
    "\n",
    "# The values of each section of the pie chart\n",
    "drivers = [2607, 638, 104]\n",
    "\n",
    "# The colors of each section of the pie chart\n",
    "colors2 = [\"grey\", \"purple\", \"green\"]"
   ]
  },
  {
   "cell_type": "code",
   "execution_count": null,
   "metadata": {},
   "outputs": [],
   "source": [
    "#Matplotlib pie chart of total fares by city type\n",
    "plt.pie(drivers, explode=explode, labels=label3, colors=colors2,\n",
    "        autopct=\"%1.1f%%\", shadow=True, startangle=140)\n",
    "plt.axis(\"equal\")"
   ]
  },
  {
   "cell_type": "code",
   "execution_count": null,
   "metadata": {},
   "outputs": [],
   "source": [
    "plt.savefig('pie_type3.jpg')\n",
    "print(\"Percentage of Total Driver per City Type\")\n",
    "plt.show()"
   ]
  },
  {
   "cell_type": "code",
   "execution_count": null,
   "metadata": {
    "collapsed": true
   },
   "outputs": [],
   "source": [
    "\"\"\"\n",
    "Observation of the data:\n",
    "\n",
    "1) The data clearly show the significant concentration of the Pyber rides orginating in the urban markets.\n",
    "2) The data file named city.csv, contained a duplicate entry (Port James) that made it difficult to graph the data.\n",
    "   I had a difficult time merging or using the .unique function.  So many hack solution was to modify the csv file.\n",
    "3) I was surprised with average fare prices between the city types were clustered close together.  68% of all of \n",
    "   the fares averaged below $30.00.\n",
    "\"\"\""
   ]
  }
 ],
 "metadata": {
  "kernelspec": {
   "display_name": "Python 3",
   "language": "python",
   "name": "python3"
  },
  "language_info": {
   "codemirror_mode": {
    "name": "ipython",
    "version": 3
   },
   "file_extension": ".py",
   "mimetype": "text/x-python",
   "name": "python",
   "nbconvert_exporter": "python",
   "pygments_lexer": "ipython3",
   "version": "3.6.3"
  }
 },
 "nbformat": 4,
 "nbformat_minor": 2
}
